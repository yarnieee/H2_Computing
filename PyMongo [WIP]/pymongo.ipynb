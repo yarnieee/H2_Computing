{
 "cells": [
  {
   "cell_type": "markdown",
   "id": "1368a152",
   "metadata": {
    "vscode": {
     "languageId": "plaintext"
    }
   },
   "source": [
    "## PyMongo Template Code\n",
    "\n",
    "IS MONGODB INSTALLED?\n",
    "mongod --version\n",
    "\n",
    "IF YES:\n",
    "\n",
    "IF NO:\n",
    "\n",
    "IS PYMONGO INSTALLED?\n",
    "import pymongo\n",
    "print(pymongo.__version__)\n",
    "\n",
    "IF ERROR:\n",
    "WINDOWS ONLY conda install -c anaconda pymongo OR pip install pymongo==3.12.3"
   ]
  },
  {
   "cell_type": "code",
   "execution_count": null,
   "id": "f1ab4a1b",
   "metadata": {},
   "outputs": [],
   "source": [
    "#import pymongo\n",
    "from pymongo import MongoClient\n",
    "\n",
    "#connect to a mongoDB server\n",
    "client = MongoClient(\"localhost\", 27017) #27017 is not random, reserved for mongoDB\n",
    "db = client['db_name']\n",
    "coll = client['coll_name']\n",
    "\n",
    "#\n",
    "# your code here\n",
    "#\n",
    "\n",
    "#close the connection\n",
    "client.close()"
   ]
  },
  {
   "cell_type": "markdown",
   "id": "f3595122",
   "metadata": {},
   "source": [
    "#### Insert, drop"
   ]
  },
  {
   "cell_type": "code",
   "execution_count": null,
   "id": "1e1aeb00",
   "metadata": {},
   "outputs": [],
   "source": [
    "#add DB\n",
    "mydb = client[\"database_name\"]\n",
    "#add collection (aka 'table')\n",
    "coll = mydb[\"collection_name\"]"
   ]
  },
  {
   "cell_type": "code",
   "execution_count": null,
   "id": "1f741580",
   "metadata": {},
   "outputs": [],
   "source": [
    "#import data file\n",
    "import json\n",
    "data=json.load(\"json_filename\")\n",
    "\n",
    "#insert json into mongodb\n",
    "coll.insert_many(data)\n",
    "\n",
    "#insert many, manually\n",
    "db.coll.insert_many([\n",
    "    {\"name\":\"John\", \"class\":\"23S6B\"},\n",
    "    {\"name\":\"Peter\", \"class\":\"23S6D\"}\n",
    "    ])\n",
    "\n",
    "#insert one\n",
    "db.coll.insert_one({\"name\":\"John\", \"class\":\"23S6E\"})"
   ]
  },
  {
   "cell_type": "code",
   "execution_count": null,
   "id": "74f22a34",
   "metadata": {},
   "outputs": [
    {
     "name": "stdout",
     "output_type": "stream",
     "text": [
      "['admin', 'local']\n",
      "[]\n"
     ]
    },
    {
     "name": "stderr",
     "output_type": "stream",
     "text": [
      "C:\\Users\\yiann\\AppData\\Local\\Temp\\ipykernel_30828\\3203949961.py:2: DeprecationWarning: database_names is deprecated. Use list_database_names instead.\n",
      "  list_of_names = client.database_names()\n"
     ]
    }
   ],
   "source": [
    "#list databases in server\n",
    "list_of_names = client.database_names()\n",
    "print(list_of_names)\n",
    "\n",
    "#list collections in db\n",
    "db = client[\"database_name\"]\n",
    "list_of_names = db.list_collection_names()\n",
    "print(list_of_names)\n",
    "\n",
    "#get indexes\n",
    "coll.get_indexes()\n",
    "coll.get_index_keys()"
   ]
  },
  {
   "cell_type": "code",
   "execution_count": null,
   "id": "524cd568",
   "metadata": {},
   "outputs": [],
   "source": [
    "#drop DB\n",
    "client.drop_database(\"database_name\")\n",
    "#drop collection\n",
    "mydb.drop_collection(\"collection_name\")"
   ]
  },
  {
   "cell_type": "markdown",
   "id": "6dbfd36e",
   "metadata": {},
   "source": [
    "#### Filter (regex)"
   ]
  },
  {
   "cell_type": "code",
   "execution_count": null,
   "id": "65e93255",
   "metadata": {},
   "outputs": [],
   "source": [
    "query={} #filter conditions\n",
    "projections={\"Title\":1,\"page\":1} #display format: 1 is show, 0 is hide\n",
    "\n",
    "result=coll.find(query, projections)\n",
    "print(result)"
   ]
  },
  {
   "cell_type": "code",
   "execution_count": null,
   "id": "08961968",
   "metadata": {},
   "outputs": [],
   "source": [
    "coll.insert_many(A)\n",
    "db.coll.insert_many([\n",
    "    {\"name\":\"John\", \"class\":\"23S6B\"},\n",
    "    {\"name\":\"Peter\", \"class\":\"23S6D\"}\n",
    "    ])\n",
    "\n",
    "coll.insert_one(A)\n",
    "db.coll.insert_one({\"name\":\"John\", \"class\":\"23S6E\"})"
   ]
  },
  {
   "cell_type": "code",
   "execution_count": null,
   "id": "3d580e02",
   "metadata": {},
   "outputs": [],
   "source": [
    "query = {'Name':'Bob'}\n",
    "projection = {'Name':1, 'Category':1}\n",
    "result = coll.find(query, projection).sort([('Category',1), ('Name', -1)]).limit(10)\n",
    "#1 for show, 0 for do not show\n",
    "\n",
    "for x in result:\n",
    "\tprint(\"{:<50}{:<50}\".format(x['Name'],x['Category']))"
   ]
  }
 ],
 "metadata": {
  "kernelspec": {
   "display_name": "h2_comp",
   "language": "python",
   "name": "python3"
  },
  "language_info": {
   "codemirror_mode": {
    "name": "ipython",
    "version": 3
   },
   "file_extension": ".py",
   "mimetype": "text/x-python",
   "name": "python",
   "nbconvert_exporter": "python",
   "pygments_lexer": "ipython3",
   "version": "3.12.0"
  }
 },
 "nbformat": 4,
 "nbformat_minor": 5
}
