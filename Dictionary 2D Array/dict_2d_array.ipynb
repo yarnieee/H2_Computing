{
 "cells": [
  {
   "cell_type": "markdown",
   "id": "e398b687",
   "metadata": {},
   "source": [
    "## 2D array"
   ]
  },
  {
   "cell_type": "markdown",
   "id": "7d610cf6",
   "metadata": {},
   "source": [
    "#### declaring array"
   ]
  },
  {
   "cell_type": "code",
   "execution_count": 12,
   "id": "52e654e0",
   "metadata": {},
   "outputs": [
    {
     "name": "stdout",
     "output_type": "stream",
     "text": [
      "first array:\n",
      "[['A', 'a', 'a', 'a', 'a', 'a', 'a', 'a', 'a', 'a'], ['a', 'a', 'a', 'a', 'a', 'a', 'a', 'a', 'a', 'a'], ['a', 'a', 'a', 'a', 'a', 'a', 'a', 'a', 'a', 'a'], ['a', 'a', 'a', 'a', 'a', 'a', 'a', 'a', 'a', 'a'], ['a', 'a', 'a', 'a', 'a', 'a', 'a', 'a', 'a', 'a']]\n"
     ]
    }
   ],
   "source": [
    "#===== declare 2D array\n",
    "#the clear way\n",
    "#say we want a 5(height)x10(width) grid.\n",
    "height=5\n",
    "width=10\n",
    "arr=[]\n",
    "row=[]\n",
    "for index in range(height): #iterate through each horizontal row\n",
    "    row=[]\n",
    "    for item in range(width):\n",
    "        #here, you can append different things. like if you want alternating values, or random values.\n",
    "        row.append('a')\n",
    "    arr.append(row)\n",
    "arr[0][0]='A' #check whether the array works as intended\n",
    "\n",
    "print('first array:')\n",
    "print(arr)"
   ]
  },
  {
   "cell_type": "code",
   "execution_count": 13,
   "id": "9338ae42",
   "metadata": {},
   "outputs": [
    {
     "name": "stdout",
     "output_type": "stream",
     "text": [
      "second array:\n",
      "[['A', 'a', 'a', 'a', 'a', 'a', 'a', 'a', 'a', 'a'], ['a', 'a', 'a', 'a', 'a', 'a', 'a', 'a', 'a', 'a'], ['a', 'a', 'a', 'a', 'a', 'a', 'a', 'a', 'a', 'a'], ['a', 'a', 'a', 'a', 'a', 'a', 'a', 'a', 'a', 'a'], ['a', 'a', 'a', 'a', 'a', 'a', 'a', 'a', 'a', 'a']]\n"
     ]
    }
   ],
   "source": [
    "#fastest way\n",
    "arr2=[['a']*width for i in range(height)]\n",
    "arr2[0][0]='A' #optional check\n",
    "\n",
    "print('second array:')\n",
    "print(arr2)"
   ]
  },
  {
   "cell_type": "markdown",
   "id": "6c6da5cf",
   "metadata": {},
   "source": [
    "#### accessing values"
   ]
  },
  {
   "cell_type": "code",
   "execution_count": null,
   "id": "c8c87b51",
   "metadata": {},
   "outputs": [
    {
     "name": "stdout",
     "output_type": "stream",
     "text": [
      "14\n",
      "6\n"
     ]
    }
   ],
   "source": [
    "#simple example\n",
    "arr=[[2,4,6],\n",
    "     [8,10,12],\n",
    "     [14,16,18]]\n",
    "#arr[row][column]\n",
    "print(arr[2][0]) #prints 14: 2nd row 0th column\n",
    "print(arr[0][2]) #prints 6: 0th row 2nd column"
   ]
  },
  {
   "cell_type": "code",
   "execution_count": null,
   "id": "a021db82",
   "metadata": {},
   "outputs": [],
   "source": [
    "#===== how to access every value of your array in sequence\n",
    "#using our previous array:\n",
    "height = 5\n",
    "width = 10\n",
    "arr2 = [[0]*width for i in range(height)]\n",
    "\n",
    "for row in range(height):\n",
    "    for col in range(width):\n",
    "        #you can now access the current element using arr[row][col], horizontally row by row.\n",
    "        #do something to the array. or print it.\n",
    "        pass"
   ]
  },
  {
   "cell_type": "code",
   "execution_count": null,
   "id": "da33f116",
   "metadata": {},
   "outputs": [],
   "source": [
    "#but what if you want to look through in order of columns?\n",
    "for col in range(width): #SWAP THE FOR LOOPS!\n",
    "    for row in range(height):\n",
    "        #the current value is still accessed thru arr[row][col]. this does not change.\n",
    "        pass"
   ]
  },
  {
   "cell_type": "markdown",
   "id": "06d7558b",
   "metadata": {},
   "source": [
    "## Dictionary"
   ]
  },
  {
   "cell_type": "markdown",
   "id": "aac4a11a",
   "metadata": {},
   "source": [
    "#### add to dictionary"
   ]
  },
  {
   "cell_type": "code",
   "execution_count": null,
   "id": "f3fad6c7",
   "metadata": {},
   "outputs": [
    {
     "name": "stdout",
     "output_type": "stream",
     "text": [
      "{'Dog': 12}\n",
      "12\n"
     ]
    }
   ],
   "source": [
    "dict = {}\n",
    "dict['Dog'] = 12 #here, 'Dog' is the key and 12 is the value.\n",
    "print(dict)\n",
    "print(dict['Dog']) #prints the value associated with Dog."
   ]
  },
  {
   "cell_type": "code",
   "execution_count": 14,
   "id": "4d0f2044",
   "metadata": {},
   "outputs": [
    {
     "name": "stdout",
     "output_type": "stream",
     "text": [
      "{'Cat': 52, 'Dog': 12, 'Gecko': 5}\n"
     ]
    }
   ],
   "source": [
    "#or just declare everything in one shot. it's just like an array except indexes can be words.\n",
    "dict = {'Cat':52, 'Dog':12, 'Gecko':5}\n",
    "print(dict)"
   ]
  },
  {
   "cell_type": "markdown",
   "id": "a4753582",
   "metadata": {},
   "source": [
    "#### get all keys/values"
   ]
  },
  {
   "cell_type": "code",
   "execution_count": null,
   "id": "7518b1db",
   "metadata": {},
   "outputs": [
    {
     "name": "stdout",
     "output_type": "stream",
     "text": [
      "{'Cat': 52, 'Dog': 12, 'Gecko': 5}\n",
      "\n",
      " all dictionary keys:\n",
      "dict_keys(['Cat', 'Dog', 'Gecko'])\n",
      "['Cat', 'Dog', 'Gecko']\n",
      "\n",
      "all dictionary values: \n",
      "[52, 12, 5]\n"
     ]
    }
   ],
   "source": [
    "#====== get all dictionary keys\n",
    "print(\"\\n all dictionary keys:\")\n",
    "print(dict.keys()) #dict.keys() gets a list of all the keys. BUT rn it's not a list.\n",
    "print(list(dict.keys())) #wrap it in list() to get a usable list.\n",
    "\n",
    "#===== get all dictionary values\n",
    "print(\"\\nall dictionary values: \")\n",
    "print(list(dict.values())) #can do the same thing with dict.values() to get list of all values."
   ]
  }
 ],
 "metadata": {
  "kernelspec": {
   "display_name": "Python 3",
   "language": "python",
   "name": "python3"
  },
  "language_info": {
   "codemirror_mode": {
    "name": "ipython",
    "version": 3
   },
   "file_extension": ".py",
   "mimetype": "text/x-python",
   "name": "python",
   "nbconvert_exporter": "python",
   "pygments_lexer": "ipython3",
   "version": "3.10.11"
  }
 },
 "nbformat": 4,
 "nbformat_minor": 5
}
