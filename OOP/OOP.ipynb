{
 "cells": [
  {
   "cell_type": "markdown",
   "id": "ac1c7ac5",
   "metadata": {},
   "source": [
    "## Template code for OOP"
   ]
  },
  {
   "cell_type": "markdown",
   "id": "f46f9b36",
   "metadata": {},
   "source": [
    "#### Basic class"
   ]
  },
  {
   "cell_type": "code",
   "execution_count": null,
   "id": "3229d83a",
   "metadata": {},
   "outputs": [],
   "source": [
    "#basic class declaration\n",
    "class ClassName:\n",
    "\t#declare attributes\n",
    "\tdef __init__(self, value_1, value_2=None): #None is the default value specified for value_2.\n",
    "\t\t#it's good practice to put an underscore before attribute names to show that it's private.\n",
    "\t\t#but functionally, the _ doesn't do anything. so during practical no need write la\n",
    "\t\tself._value_1=value_1\n",
    "\t\tself._value_2=value_2\n",
    "\t\n",
    "\t#getter methods\n",
    "\tdef get_attr1(self):\n",
    "\t\treturn self._value_1\n",
    "\t\n",
    "\tdef get_attr2(self):\n",
    "\t\treturn self._value_2\n",
    "\n",
    "\t#setter methods\n",
    "\tdef set_attr1(self, newvalue):\n",
    "\t\tself._value_1=newvalue\n",
    "\t\n",
    "\tdef set_attr2(self, newvalue):\n",
    "\t\tself._value_2=newvalue\n",
    "\n",
    "\tdef __str__(self): #this is the result you will get if you run print(objectname)! see below.\n",
    "\t\treturn f\"attribute 1: {self.get_attr1()}\\nattribute2: {self.get_attr2()}\\n\""
   ]
  },
  {
   "cell_type": "markdown",
   "id": "060d37c8",
   "metadata": {},
   "source": [
    "#### Declare object and use methods"
   ]
  },
  {
   "cell_type": "code",
   "execution_count": 7,
   "id": "07aa826b",
   "metadata": {},
   "outputs": [
    {
     "name": "stdout",
     "output_type": "stream",
     "text": [
      "hello\n",
      "attribute 1: hello\n",
      "attribute2: 73\n",
      "\n",
      "attribute 1: changed value\n",
      "attribute2: 73\n",
      "\n",
      "attribute 1: aaaa\n",
      "attribute2: None\n",
      "\n"
     ]
    }
   ],
   "source": [
    "object = ClassName(\"hello\", 73)\n",
    "print(object.get_attr1())\n",
    "print(object) #this calls __str__ (see above), so what is returned there will be printed.\n",
    "object.set_attr1(\"changed value\")\n",
    "print(object)\n",
    "\n",
    "object2=ClassName(\"aaaa\") #as you can see, no value given for attribute 2, it's set to None by default.\n",
    "print(object2)"
   ]
  },
  {
   "cell_type": "markdown",
   "id": "0a1e5a69",
   "metadata": {},
   "source": [
    "#### Inheritance"
   ]
  },
  {
   "cell_type": "code",
   "execution_count": null,
   "id": "71ea12e1",
   "metadata": {},
   "outputs": [],
   "source": [
    "#inheritance\n",
    "\n",
    "class Child(ClassName):\n",
    "    #for when you want to move over the previous attributes, AND add new attributes\n",
    "    def __init__(self, value_1, value_2, value_3): #attr1 and attr2 are from the parent class. yes, you need to write them out again in the __init__()\n",
    "        super().__init__(value_1, value_2)\n",
    "        self._value_3=value_3\n",
    "    \n",
    "    def get_attr3(self):\n",
    "          return self._value_3\n",
    "\n",
    "    def set_attr1(self, newvalue):\n",
    "        self._value_3=newvalue"
   ]
  },
  {
   "cell_type": "code",
   "execution_count": null,
   "id": "2559b752",
   "metadata": {},
   "outputs": [],
   "source": [
    "#inheritance, sample 2\n",
    "\n",
    "class Another_Child(ClassName):\n",
    "    # if you don't need to add new variables, no need for __init__() or super().__init__() at all.\n",
    "    \n",
    "\t#just add new methods.\n",
    "\tdef newmethod(self):\n",
    "\t\tpass"
   ]
  },
  {
   "cell_type": "markdown",
   "id": "a645f3ef",
   "metadata": {},
   "source": [
    "#### Method Overriding"
   ]
  },
  {
   "cell_type": "code",
   "execution_count": 8,
   "id": "96130a97",
   "metadata": {},
   "outputs": [],
   "source": [
    "#method overriding\n",
    "\n",
    "class Override(ClassName):\n",
    "    def get_attr1(self):\n",
    "        return \"no thanks\"\n",
    "    #you can name a function the same thing as "
   ]
  },
  {
   "cell_type": "code",
   "execution_count": 9,
   "id": "43c8da94",
   "metadata": {},
   "outputs": [
    {
     "name": "stdout",
     "output_type": "stream",
     "text": [
      "attribute 1: no thanks\n",
      "attribute2: 72\n",
      "\n",
      "no thanks\n"
     ]
    }
   ],
   "source": [
    "object3=Override(\"hello\", 72)\n",
    "print(object3)\n",
    "print(object3.get_attr1())\n",
    "#the original get_attr() returns the value of attr.\n",
    "#but we successfully overrode it to do something else, by re-declaring it in a child class."
   ]
  }
 ],
 "metadata": {
  "kernelspec": {
   "display_name": "Python 3",
   "language": "python",
   "name": "python3"
  },
  "language_info": {
   "codemirror_mode": {
    "name": "ipython",
    "version": 3
   },
   "file_extension": ".py",
   "mimetype": "text/x-python",
   "name": "python",
   "nbconvert_exporter": "python",
   "pygments_lexer": "ipython3",
   "version": "3.10.11"
  }
 },
 "nbformat": 4,
 "nbformat_minor": 5
}
