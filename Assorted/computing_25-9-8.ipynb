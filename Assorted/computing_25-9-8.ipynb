{
 "cells": [
  {
   "cell_type": "markdown",
   "id": "4ecef2e9",
   "metadata": {},
   "source": [
    "#### Python warm up exercises"
   ]
  },
  {
   "cell_type": "markdown",
   "id": "eef34976",
   "metadata": {},
   "source": [
    "Task 1: write a function that takes a string as input and prints it in reverse."
   ]
  },
  {
   "cell_type": "code",
   "execution_count": 6,
   "id": "bca2fad1",
   "metadata": {},
   "outputs": [
    {
     "data": {
      "text/plain": [
       "'c:\\\\Users\\\\yiann\\\\Computing_Folder\\\\H2_Computing\\\\tuition'"
      ]
     },
     "execution_count": 6,
     "metadata": {},
     "output_type": "execute_result"
    }
   ],
   "source": [
    "pwd"
   ]
  },
  {
   "cell_type": "code",
   "execution_count": 7,
   "id": "3f51deb4",
   "metadata": {},
   "outputs": [
    {
     "name": "stdout",
     "output_type": "stream",
     "text": [
      "['which\\n', 'there\\n', 'their\\n', 'about\\n', 'would\\n']\n"
     ]
    }
   ],
   "source": [
    "with open('5-letter-words.txt') as data:\n",
    "    temp=data.readlines()\n",
    "\n",
    "print(temp[0:5])"
   ]
  },
  {
   "cell_type": "markdown",
   "id": "312057fc",
   "metadata": {},
   "source": [
    "Task 2: write a function that take a list as input and returns every other element of the list."
   ]
  },
  {
   "cell_type": "code",
   "execution_count": null,
   "id": "c20a0c9f",
   "metadata": {},
   "outputs": [],
   "source": []
  },
  {
   "cell_type": "markdown",
   "id": "ecc0e39c",
   "metadata": {},
   "source": [
    "Task 3: write a function that takes 2 integers a , b as input, and returns the value of \"a to the power of b\"."
   ]
  },
  {
   "cell_type": "code",
   "execution_count": null,
   "id": "5dad4c33",
   "metadata": {},
   "outputs": [
    {
     "name": "stdout",
     "output_type": "stream",
     "text": [
      "0\n",
      "2\n",
      "4\n",
      "6\n",
      "8\n"
     ]
    }
   ],
   "source": [
    "numbers=[6,5,4,3,2]\n",
    "\n",
    "def Task1(lst):\n",
    "    for i in range(\n",
    "        print(i)\n",
    "        \n",
    "Task1(numbers)"
   ]
  },
  {
   "cell_type": "code",
   "execution_count": 8,
   "id": "095f7cc3",
   "metadata": {},
   "outputs": [
    {
     "data": {
      "text/plain": [
       "2.0"
      ]
     },
     "execution_count": 8,
     "metadata": {},
     "output_type": "execute_result"
    }
   ],
   "source": [
    "import math\n",
    "\n",
    "math.sqrt(4)"
   ]
  },
  {
   "cell_type": "markdown",
   "id": "dc6ecea9",
   "metadata": {},
   "source": [
    "Task 4: write a function that takes 2 integers a, b as input, and returns the value of the quotient and the remainder of a/b in a suitable data structure."
   ]
  },
  {
   "cell_type": "code",
   "execution_count": null,
   "id": "78492838",
   "metadata": {},
   "outputs": [],
   "source": []
  },
  {
   "cell_type": "markdown",
   "id": "efc5868b",
   "metadata": {},
   "source": [
    "#### Python recursion practices"
   ]
  },
  {
   "cell_type": "markdown",
   "id": "5539a948",
   "metadata": {},
   "source": [
    "Task 4.1: explain briefly what the function Task4_1 does. (see below) (Hint: draw a recursion diagram to trace the execution process, it may help your thought process.)\n",
    "\n",
    "```\n",
    "def Task4_1(a):\n",
    "\tif a<=1:\n",
    "\t\treturn 1\n",
    "\telse:\n",
    "\t\tresult = Task4(a-1)*2\n",
    "\t\treturn result\n",
    "```"
   ]
  },
  {
   "cell_type": "code",
   "execution_count": null,
   "id": "c81f458a",
   "metadata": {},
   "outputs": [],
   "source": []
  },
  {
   "cell_type": "markdown",
   "id": "126464c7",
   "metadata": {},
   "source": [
    "Task 4.2: There is a similar function Task4_2, which takes value a and is intended to return the n-th term of the fibonacci sequence. (e.g. starting from the 1st term, the fibonacci sequence is 1, 1, 2, 3, 5, 8, 13)\n",
    "\n",
    "However, this code doesn't work. Name the 2 things that are wrong with this code, and write the correct version of the code below.\n",
    "\n",
    "```\n",
    "def Task4_2(a):\n",
    "\tif a<=0:\n",
    "\t\tprint(1)\n",
    "\telse:\n",
    "\t\tresult = Task4(a-1)+Task4(a-2)\n",
    "\t\tprint(result)\n",
    "```"
   ]
  },
  {
   "cell_type": "code",
   "execution_count": null,
   "id": "117d4182",
   "metadata": {},
   "outputs": [],
   "source": []
  },
  {
   "attachments": {
    "image-2.png": {
     "image/png": "[encoded data removed]"
    }
   },
   "cell_type": "markdown",
   "id": "c2dc014e",
   "metadata": {},
   "source": [
    "#### Task 4.3:\n",
    "\n",
    "Here's another recursion problem:\n",
    "![image-2.png](attachment:image-2.png)\n",
    "\n",
    "This is a sierpinski triangle.\n",
    "\n",
    "at n=1, there are 0 white triangles present in the diagram.\n",
    "\n",
    "at n=2, there is 1 white triangle present in the diagram.\n",
    "\n",
    "at n=3, there are 4 white triangles present in the diagram.\n",
    "\n",
    "at n=4, there are 13 white triangles present in the diagram.\n",
    "\n",
    "write a recursive function that takes a value (a) as input, and returns the number of white triangles present at n=a.\n",
    "\n",
    "Hint 0: try to analyse the problem as a mathematical number pattern first. then think of each step of recursion as breaking down a problem into a simpler version of the problem.\n",
    "\n",
    "Hint 1: there is no for/while loop inside this function!!\n",
    "\n",
    "Hint 2: remember what's in a recursive function! 1. it has a base case (e.g. if n=0 then ...) 2. the function calls itself with different arguments each time (as it approaches the base case)"
   ]
  },
  {
   "cell_type": "markdown",
   "id": "00ba08b5",
   "metadata": {},
   "source": []
  }
 ],
 "metadata": {
  "kernelspec": {
   "display_name": "ML",
   "language": "python",
   "name": "python3"
  },
  "language_info": {
   "codemirror_mode": {
    "name": "ipython",
    "version": 3
   },
   "file_extension": ".py",
   "mimetype": "text/x-python",
   "name": "python",
   "nbconvert_exporter": "python",
   "pygments_lexer": "ipython3",
   "version": "3.12.0"
  }
 },
 "nbformat": 4,
 "nbformat_minor": 5
}
