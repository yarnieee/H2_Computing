{
 "cells": [
  {
   "cell_type": "code",
   "execution_count": 14,
   "id": "022245f7",
   "metadata": {},
   "outputs": [
    {
     "name": "stdout",
     "output_type": "stream",
     "text": [
      "None\n"
     ]
    }
   ],
   "source": [
    "lst=[53,2,5,7,8,1]\n",
    "# a='dfghsja' \n",
    "# a=a.strip('a')\n",
    "# print(a)\n",
    "\n",
    "lst=lst.sort()\n",
    "print(lst)"
   ]
  },
  {
   "cell_type": "markdown",
   "id": "8e820649",
   "metadata": {},
   "source": [
    "SELECT OWNER.OWNERNAME, OWNER.OWNERCONTACT, COUNT(DOGOWNER.DOGID)\n",
    "FROM DOGOWNER\n",
    "INNER JOIN OWNER ON OWNER.OWNERID=DOGOWNER.OWNERID\n",
    "GROUP BY OWNERID\n",
    "ORDER BY OWNERID ASC"
   ]
  },
  {
   "cell_type": "markdown",
   "id": "05eabd51",
   "metadata": {},
   "source": [
    "1. display the ID and name of all dogs owned by 'Sarah Anderson'\n",
    "\n",
    "2. display the human names, contact info, number of dogs of *everyone* in the owner table."
   ]
  },
  {
   "cell_type": "code",
   "execution_count": null,
   "id": "82fc03eb",
   "metadata": {},
   "outputs": [],
   "source": [
    "for line in file:\n",
    "    doginfo=file.readlines()\n",
    "    doginfo_processed=[]\n",
    "    for line in file:\n",
    "        doginfo_processed.append(line.strip().split(','))\n",
    "    "
   ]
  }
 ],
 "metadata": {
  "kernelspec": {
   "display_name": "Python 3",
   "language": "python",
   "name": "python3"
  },
  "language_info": {
   "codemirror_mode": {
    "name": "ipython",
    "version": 3
   },
   "file_extension": ".py",
   "mimetype": "text/x-python",
   "name": "python",
   "nbconvert_exporter": "python",
   "pygments_lexer": "ipython3",
   "version": "3.10.11"
  }
 },
 "nbformat": 4,
 "nbformat_minor": 5
}
