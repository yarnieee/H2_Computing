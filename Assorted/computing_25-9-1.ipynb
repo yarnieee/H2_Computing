{
 "cells": [
  {
   "cell_type": "markdown",
   "id": "2ddf744e",
   "metadata": {},
   "source": [
    "## Python practice (try at least 2 before lesson)\n",
    "have fun!\n",
    "\n",
    "coding tip for the day:\n",
    "get used to writing short comments explaining your code. like what a specific loop does, or what a function is trying to do. at least 1 in each code block pls :) (there’s 6/100 marks dedicated to this during practical exams wOw)"
   ]
  },
  {
   "cell_type": "markdown",
   "id": "5aeab633",
   "metadata": {},
   "source": [
    "#### Task 1\n",
    "convert a list of ASCII code (e.g. 96) to letters (e.g. 'a') and print the result."
   ]
  },
  {
   "cell_type": "code",
   "execution_count": null,
   "id": "84459f86",
   "metadata": {},
   "outputs": [],
   "source": [
    "#your code here\n",
    "\n",
    "#test case\n",
    "arr = [67, 111, 110, 103, 114, 97, 116, 105, 111, 110, 115, 33, 32, 89, 111, 117, 32, 100, 111, 110, 101, 32, 105, 116]\n",
    "\n",
    "#run your function\n"
   ]
  },
  {
   "cell_type": "markdown",
   "id": "6fd4efba",
   "metadata": {},
   "source": [
    "#### Task 2\n",
    "​I have a list of integers (e.g. [2,4,6,8]), and I only want to keep the elements that are larger or equal to 6 (e.g. [6,8]). write a function that takes this list as input, and returns me a list only containing the elements larger or equal to 6.\n",
    "\n",
    "bonus challenge (after you've successfully attempted this task: ) do this in 1 line in the return statement :0"
   ]
  },
  {
   "cell_type": "code",
   "execution_count": null,
   "id": "eb83d1d8",
   "metadata": {},
   "outputs": [],
   "source": [
    "#your code here\n",
    "\n",
    "#test case\n",
    "arr = [6,-1,2,4,6,8] #returns [6,6,8]\n",
    "\n",
    "#run your function\n"
   ]
  },
  {
   "cell_type": "markdown",
   "id": "8207c4b1",
   "metadata": {},
   "source": [
    "#### Task 3\n",
    "I have some text. I want to count the number of times a given word is present in the text."
   ]
  },
  {
   "cell_type": "code",
   "execution_count": null,
   "id": "b8090a56",
   "metadata": {},
   "outputs": [],
   "source": [
    "sample_text = \"In a hole in the ground there lived a hobbit. Not a nasty, dirty, wet hole, filled with the ends of worms and an oozy smell, nor yet a dry, bare, sandy hole with nothing in it to sit down on or to eat: it was a hobbit-hole, and that means comfort.\"\n",
    "\n",
    "#your function here\n",
    "\n",
    "test = ['in', 'hole', 'worm', 'not'] # should return 2, 4, 0, 1.\n",
    "#run your function\n"
   ]
  },
  {
   "cell_type": "markdown",
   "id": "247e0936",
   "metadata": {},
   "source": [
    "#### Task 4\n",
    "given a word (e.g. 'bee') return me the letter with the most repeats (e.g. 'e')"
   ]
  },
  {
   "cell_type": "code",
   "execution_count": null,
   "id": "aa010c69",
   "metadata": {},
   "outputs": [],
   "source": [
    "#your function here\n",
    "\n",
    "test = ['bee', 'cat','mississippi', 'strawberry', 'supercalifragilisticexpialidocious'] # returns [e], [c,a,t], [i,s], [r], [i] respectively.\n",
    "#run your function here\n"
   ]
  }
 ],
 "metadata": {
  "language_info": {
   "name": "python"
  }
 },
 "nbformat": 4,
 "nbformat_minor": 5
}
