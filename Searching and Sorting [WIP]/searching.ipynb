{
 "cells": [
  {
   "cell_type": "markdown",
   "id": "3b7712ed",
   "metadata": {},
   "source": [
    "#### Generate random 10-number list for searching/sorting"
   ]
  },
  {
   "cell_type": "code",
   "execution_count": null,
   "id": "15ca1ff6",
   "metadata": {},
   "outputs": [
    {
     "name": "stdout",
     "output_type": "stream",
     "text": [
      "[5, 6, 0, 5, 5, 10, 9, 6, 10, 10]\n"
     ]
    }
   ],
   "source": [
    "import random\n",
    "\n",
    "def get_random(n):\n",
    "    #lst = random.sample(range(1,n*2),n) #random.sample() gives no duplicates.\n",
    "    lst = [random.randint(0,10) for i in range(10)]\n",
    "    print(f\"generated: {lst}\")\n",
    "    return lst"
   ]
  },
  {
   "cell_type": "markdown",
   "id": "ad6a3216",
   "metadata": {},
   "source": [
    "## Searching Algorithms\n",
    "1. Linear search\n",
    "2. Binary search (iterative)\n",
    "3. Binary search (recursive)"
   ]
  },
  {
   "cell_type": "markdown",
   "id": "8d377a32",
   "metadata": {},
   "source": [
    "#### Linear search"
   ]
  },
  {
   "cell_type": "code",
   "execution_count": 1,
   "id": "c5b1de35",
   "metadata": {},
   "outputs": [],
   "source": [
    "#basic\n",
    "def linearSearch(A, key):\n",
    "    for i in range(len(A)):\n",
    "        if A[i]==key:\n",
    "            return i\n",
    "    return -1"
   ]
  },
  {
   "cell_type": "code",
   "execution_count": 2,
   "id": "c019d464",
   "metadata": {},
   "outputs": [],
   "source": [
    "# linear search for multiple instances\n",
    "def linearSearch2(A, key):\n",
    "    indexes=[]\n",
    "    for i in range(len(A)):\n",
    "        if A[i]==key:\n",
    "            indexes.append(i)\n",
    "    return indexes"
   ]
  },
  {
   "cell_type": "markdown",
   "id": "12923a5a",
   "metadata": {},
   "source": [
    "#### Binary search"
   ]
  },
  {
   "cell_type": "code",
   "execution_count": null,
   "id": "2c1ab949",
   "metadata": {},
   "outputs": [
    {
     "name": "stdout",
     "output_type": "stream",
     "text": [
      "(5, 3)\n"
     ]
    }
   ],
   "source": [
    "#binary search (iterative)\n",
    "def binarysearch(A,key):\n",
    "    comparisons=0\n",
    "    low=0\n",
    "    high=len(A)-1\n",
    "    while low<=high:\n",
    "        mid=(low+high)//2\n",
    "        comparisons+=1\n",
    "        if A[mid]==key:\n",
    "            return mid, comparisons\n",
    "        elif A[mid]>key:\n",
    "            high=mid-1\n",
    "        else:\n",
    "            low=mid+1\n",
    "    return -1, comparisons"
   ]
  },
  {
   "cell_type": "code",
   "execution_count": null,
   "id": "c9b290ac",
   "metadata": {},
   "outputs": [
    {
     "name": "stdout",
     "output_type": "stream",
     "text": [
      "[2, 5, 7, 12, 16, 23, 38, 56, 72, 91]\n",
      "[23, 38, 56, 72, 91]\n",
      "[23, 38]\n",
      "(5, 3)\n"
     ]
    }
   ],
   "source": [
    "#binary search (recursive)\n",
    "\n",
    "def binarysearch(A, low, high, key, comparisons):\n",
    "    mid=(low+high)//2\n",
    "    print(A[low:high+1])\n",
    "    if A[mid]==key:\n",
    "        return mid, comparisons+1\n",
    "    elif A[mid]<key: #upper half\n",
    "        return binarysearch(A, mid+1, high, key, comparisons+1)\n",
    "    else:\n",
    "        return binarysearch(A, low, mid-1, key, comparisons+1)\n",
    "    return -1\n",
    "\n",
    "def find(A,key): #helper just to make it cleaner\n",
    "    return binarysearch(A,0,len(A)-1,key,0)"
   ]
  }
 ],
 "metadata": {
  "kernelspec": {
   "display_name": "Python 3",
   "language": "python",
   "name": "python3"
  },
  "language_info": {
   "codemirror_mode": {
    "name": "ipython",
    "version": 3
   },
   "file_extension": ".py",
   "mimetype": "text/x-python",
   "name": "python",
   "nbconvert_exporter": "python",
   "pygments_lexer": "ipython3",
   "version": "3.10.11"
  }
 },
 "nbformat": 4,
 "nbformat_minor": 5
}
