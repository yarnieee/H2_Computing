{
 "cells": [
  {
   "cell_type": "markdown",
   "id": "5bc0bc2e",
   "metadata": {},
   "source": [
    "#### Generate random 10-number list for searching/sorting"
   ]
  },
  {
   "cell_type": "code",
   "execution_count": null,
   "id": "66b70b5d",
   "metadata": {},
   "outputs": [],
   "source": [
    "import random\n",
    "\n",
    "def get_random(n):\n",
    "    #lst = random.sample(range(1,n*2),n) #random.sample() gives no duplicates.\n",
    "    lst = [random.randint(0,10) for i in range(10)]\n",
    "    print(f\"generated: {lst}\")\n",
    "    return lst"
   ]
  },
  {
   "cell_type": "markdown",
   "id": "dd9feefc",
   "metadata": {},
   "source": [
    "## Sorting Algorithms\n",
    "1. Bubble sort (while loop)\n",
    "2. Bubble sort (for loop)\n",
    "2. Insertion sort\n",
    "3. Mergesort\n",
    "4. Quicksort"
   ]
  },
  {
   "cell_type": "markdown",
   "id": "7dacf9aa",
   "metadata": {},
   "source": [
    "#### Bubble sort (WHILE loop)"
   ]
  },
  {
   "cell_type": "code",
   "execution_count": null,
   "id": "138aa060",
   "metadata": {
    "scrolled": true
   },
   "outputs": [],
   "source": [
    "def bubbleSort(arr):\n",
    "    i=len(arr)-1 #last index (of unsorted list)\n",
    "    while i > 0:\n",
    "        lei = 0 #last exchange index\n",
    "        for j in range(i):\n",
    "            if arr[j] > arr[j+1]:\n",
    "                arr[j], arr[j + 1] = arr[j + 1], arr[j]\n",
    "                lei = j+1 #will keep being updated till the last exchange\n",
    "        i = lei"
   ]
  },
  {
   "cell_type": "code",
   "execution_count": null,
   "id": "03d2e427",
   "metadata": {},
   "outputs": [
    {
     "name": "stdout",
     "output_type": "stream",
     "text": [
      "generated: [12, 6, 1, 3, 26, 28, 10, 17, 18, 21, 14, 27, 9, 29, 4]\n",
      "[1, 3, 4, 6, 9, 10, 12, 14, 17, 18, 21, 26, 27, 28, 29]\n"
     ]
    }
   ],
   "source": [
    "arr=get_random(15)\n",
    "bubbleSort(arr)\n",
    "print(arr)"
   ]
  },
  {
   "cell_type": "markdown",
   "id": "2f444bfb",
   "metadata": {},
   "source": [
    "#### Bubble sort (FOR loop)"
   ]
  },
  {
   "cell_type": "code",
   "execution_count": 12,
   "id": "3cbbc0df",
   "metadata": {},
   "outputs": [],
   "source": [
    "def bubble_sort(arr):\n",
    "    n = len(arr)\n",
    "    for i in range(n): # Last i elements are already in place, so we iterate from 0 to n-i-1\n",
    "        for j in range(0, n-i-1): # Traverse the array from 0 to n-i-1. Swap if the element found is greater than the next element\n",
    "            if arr[j]>arr[j+1]:\n",
    "                arr[j],arr[j+1]=arr[j+1],arr[j]"
   ]
  },
  {
   "cell_type": "markdown",
   "id": "c3edf4f5",
   "metadata": {},
   "source": [
    "#### Insertion Sort"
   ]
  },
  {
   "cell_type": "code",
   "execution_count": 13,
   "id": "1bbfdacb",
   "metadata": {},
   "outputs": [],
   "source": [
    "def insertionSort(arr):\n",
    "    for i in range(1, len(arr)):\n",
    "        key = arr[i]\n",
    "        j=i #starts from last index of sorted sublist, go down one by one until target spot is found for key\n",
    "        while j>0 and key<arr[j-1]: #shifting indexes counting down\n",
    "            arr[j] = arr[j-1]\n",
    "            j-=1\n",
    "        arr[j] = key"
   ]
  },
  {
   "cell_type": "markdown",
   "id": "eaf5a6c3",
   "metadata": {},
   "source": [
    "#### Mergesort"
   ]
  },
  {
   "cell_type": "code",
   "execution_count": 22,
   "id": "df9b72d5",
   "metadata": {},
   "outputs": [],
   "source": [
    "def split(arr,low,high):\n",
    "    middle=(low+high)//2\n",
    "    #print(low, high,middle)\n",
    "    print(arr[low:high+1])\n",
    "    if low<high:\n",
    "        split(arr, low, middle-1)\n",
    "        split(arr, middle+1, high)\n",
    "\n",
    "def merge(left,right):\n",
    "    lst=[]\n",
    "    i=0\n",
    "    j=0\n",
    "    while i<len(left) and j<len(right):\n",
    "        if left[i]<right[j]:\n",
    "            lst.append(left[i])\n",
    "            i+=1\n",
    "        else:\n",
    "            lst.append(right[j])\n",
    "            j+=1\n",
    "    lst+=right[j:] #concatenate rest of list\n",
    "    lst+=left[i:]\n",
    "    return lst\n",
    "\n",
    "def mergeSort(arr,low,high):\n",
    "    middle=(low+high)//2\n",
    "    if low<high:\n",
    "        return merge(split(arr, low, middle), split(arr, middle+1, high))\n",
    "    return (arr[low:high+1])\n"
   ]
  },
  {
   "cell_type": "markdown",
   "id": "c0054cab",
   "metadata": {},
   "source": [
    "#### Quicksort"
   ]
  },
  {
   "cell_type": "code",
   "execution_count": null,
   "id": "c61a9174",
   "metadata": {},
   "outputs": [],
   "source": [
    "def split(arr, lower, upper):\n",
    "    pivot=arr[lower] #randomly choose a pivot\n",
    "    left=lower+1 #start of unsorted list\n",
    "    right=upper\n",
    "    while left<=right: #end condition is pointers crossing over each other\n",
    "        while left<=right and arr[left]<=pivot: #search from left for element > pivot\n",
    "            left+=1\n",
    "        while arr[right]>pivot: #search from right for element <= pivot\n",
    "            right-=1\n",
    "        if left<right: #interchange elements if left and right have not passed each other\n",
    "            arr[left],arr[right]=arr[right],arr[left]\n",
    "    #pivot=right\n",
    "    arr[lower],arr[right]=arr[right],arr[lower] #swap pivot back to end of first sublist\n",
    "    #first sublist is <= pivot\n",
    "    #second sublist is > pivot\n",
    "    return right\n",
    "\n",
    "def quicksort(arr,lower,upper):\n",
    "    if lower<upper:\n",
    "        pivot=split(arr,lower,upper)\n",
    "        quicksort(arr,lower,pivot-1)\n",
    "        quicksort(arr, pivot+1, upper)"
   ]
  }
 ],
 "metadata": {
  "kernelspec": {
   "display_name": "Python 3",
   "language": "python",
   "name": "python3"
  },
  "language_info": {
   "codemirror_mode": {
    "name": "ipython",
    "version": 3
   },
   "file_extension": ".py",
   "mimetype": "text/x-python",
   "name": "python",
   "nbconvert_exporter": "python",
   "pygments_lexer": "ipython3",
   "version": "3.10.11"
  }
 },
 "nbformat": 4,
 "nbformat_minor": 5
}
