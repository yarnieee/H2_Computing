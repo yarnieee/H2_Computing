{
 "cells": [
  {
   "cell_type": "markdown",
   "id": "3e2cada0",
   "metadata": {},
   "source": [
    "## SQLite library in python\n",
    "1. Book (BookID, Title, Genre)\n",
    "2. Member (MemberNumber, FamilyName, GivenName)\n",
    "3. Loan (LoanID, MemberNumber, BookID, DateLoaned, Returned)"
   ]
  },
  {
   "cell_type": "code",
   "execution_count": null,
   "id": "416edffd",
   "metadata": {},
   "outputs": [],
   "source": [
    "#import library\n",
    "import sqlite3\n",
    "\n",
    "#create connection\n",
    "con = sqlite3.connect('newdb.db')\n",
    "cursor = con.cursor() #cursor is for retrieving data\n",
    "\n",
    "#\n",
    "# create, select statements here.\n",
    "#\n",
    "\n",
    "#commit to save changes\n",
    "con.commit()\n",
    "\n",
    "#close everything that you created\n",
    "cursor.close()\n",
    "con.close()"
   ]
  },
  {
   "cell_type": "code",
   "execution_count": null,
   "id": "72f72a8f",
   "metadata": {},
   "outputs": [],
   "source": [
    "#if a question tells you to write a function which does something in SQLite, it's recommended to create a new connection, do something, and close the connection all within one function.\n",
    "\n",
    "#if you ever get a \"database is locked\" error, .close() for all your existing connections and cursors, restart notebook, try again."
   ]
  },
  {
   "cell_type": "markdown",
   "id": "7a82ec46",
   "metadata": {},
   "source": [
    "#### create and select statements\n",
    "\n",
    "for cheat sheet on how to write statements, go [here](https://www.notion.so/jc-database/Database-SQLite-321b11c40d9e4a7d94ee8f53fad41cb0#d20bcc9c9efd4abba315ad95dce6b4bf) and scroll to the bottom."
   ]
  },
  {
   "cell_type": "code",
   "execution_count": null,
   "id": "0415c93e",
   "metadata": {},
   "outputs": [],
   "source": [
    "# sample code for creating tables, defining primary key and foreign keys.\n",
    "con.execute('CREATE TABLE IF NOT EXISTS Book (BookID TEXT PRIMARY KEY, Title TEXT, Genre TEXT)')\n",
    "con.execute('CREATE TABLE IF NOT EXISTS Member (MemberNumber TEXT PRIMARY KEY, FamilyName TEXT, GivenName TEXT)')\n",
    "con.execute('CREATE TABLE IF NOT EXISTS Loan (LoanID TEXT PRIMARY KEY, MemberNumber TEXT, BookID TEXT, DateLoaned TEXT, Returned BOOLEAN, FOREIGN KEY (MemberNumber) REFERENCES Member(MemberNumber), FOREIGN KEY (BookID) REFERENCES Book(BookID))')"
   ]
  },
  {
   "cell_type": "code",
   "execution_count": null,
   "id": "bee74f81",
   "metadata": {},
   "outputs": [],
   "source": [
    "# sample code for select statements\n",
    "# exactly the same as normal tbh\n",
    "loanID=input()\n",
    "cursor.execute(\"\"\"SELECT Book.BookID, Book.Title FROM Book INNER JOIN Loan ON Loan.BookID=Book.BookID WHERE LoanID=? ORDER BY Book.Title ASC\"\"\", (loanID,))\n",
    "\n",
    "result=cursor.fetchall() #returns some kind of cursor object. need to iterate through to get the actual values\n",
    "for book in result:\n",
    "    print(book[0],book[1]) # prints bookID,title."
   ]
  },
  {
   "cell_type": "markdown",
   "id": "89c1d7b7",
   "metadata": {},
   "source": [
    "#### adding into database from text file\n",
    "since this is sample code, I won't write the sqlite3.connect(dbname) part again, but just assume that the connection is active."
   ]
  },
  {
   "cell_type": "code",
   "execution_count": null,
   "id": "80836216",
   "metadata": {},
   "outputs": [],
   "source": [
    "with open('BOOK.txt','r') as book:\n",
    "    data = book.readlines()\n",
    "    data = [row.strip('\\n').split(',') for row in data] #['new' for 'current' in data]\n",
    "    print(data)\n",
    "    #file closes automatically"
   ]
  },
  {
   "cell_type": "code",
   "execution_count": null,
   "id": "93a25770",
   "metadata": {},
   "outputs": [],
   "source": [
    "for line in data:\n",
    "    con.execute(\"INSERT INTO Book(BookID, Title, Genre) VAlUES(?,?,?)\", (line[0], line[1], line[2]))\n",
    "    \n",
    "# if you insert only one thing,\n",
    "# \"INSERT INTO Table(Column) VALUES(?)\", (data,) <- note the comma behind 'data'\n",
    "# if no comma, (data) is just a value, which may be a string or an int or anything.\n",
    "# if included comma, (data,) is a tuple. which can now be accessed via indexing. variable_name[0]=data"
   ]
  },
  {
   "cell_type": "markdown",
   "id": "bf9ad7d6",
   "metadata": {},
   "source": [
    "#### extra: why are f-strings vulnerable?"
   ]
  },
  {
   "cell_type": "code",
   "execution_count": 1,
   "id": "7346013a",
   "metadata": {},
   "outputs": [
    {
     "name": "stdout",
     "output_type": "stream",
     "text": [
      "INSERT INTO Book(BookID, Title, Genre) VAlUES(random_ID, random_title, random_genre); DROP TABLE Book; --\",,)\n"
     ]
    }
   ],
   "source": [
    "# real demo of why f strings are vulnerable\n",
    "# for context, ; denotes the end of one statement, so  -- is used to write a comment.\n",
    "value1='random_ID, random_title, random_genre); DROP TABLE Book; --\"'\n",
    "value2=''\n",
    "value3=''\n",
    "statement=f\"INSERT INTO Book(BookID, Title, Genre) VAlUES({value1},{value2},{value3})\"\n",
    "print(statement)\n",
    "\n",
    "# what you will actually be executing will be:\n",
    "# INSERT INTO Book(BookID, Title, Genre) VAlUES(random_ID, random_title, random_genre); DROP TABLE Book; --\",,)\n",
    "# bad, cos now your table will be gOne...\n",
    "\n",
    "# so if f strings are vulnerable, how come the ? method works?\n",
    "# ? are called placeholders so,\n",
    "# SQLite will parse your statement without the real values first, so it will understand what the statement structure is.\n",
    "# if you change the structure afterwards using SQL injection, it will be caught bcos the structure is different."
   ]
  },
  {
   "cell_type": "code",
   "execution_count": null,
   "id": "8016a866",
   "metadata": {},
   "outputs": [],
   "source": []
  },
  {
   "cell_type": "code",
   "execution_count": null,
   "id": "6a31ef02",
   "metadata": {},
   "outputs": [],
   "source": []
  }
 ],
 "metadata": {
  "kernelspec": {
   "display_name": "Python 3",
   "language": "python",
   "name": "python3"
  },
  "language_info": {
   "codemirror_mode": {
    "name": "ipython",
    "version": 3
   },
   "file_extension": ".py",
   "mimetype": "text/x-python",
   "name": "python",
   "nbconvert_exporter": "python",
   "pygments_lexer": "ipython3",
   "version": "3.10.11"
  }
 },
 "nbformat": 4,
 "nbformat_minor": 5
}
