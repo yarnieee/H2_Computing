{
 "cells": [
  {
   "cell_type": "markdown",
   "id": "852aa26c",
   "metadata": {},
   "source": [
    "## Dec to Bin/Hex"
   ]
  },
  {
   "cell_type": "code",
   "execution_count": 18,
   "id": "1d3835a4",
   "metadata": {},
   "outputs": [
    {
     "name": "stdout",
     "output_type": "stream",
     "text": [
      "bin: 1101110\n",
      "dec: 110\n",
      "hex: 6E\n"
     ]
    }
   ],
   "source": [
    "def base_converter(value,new_base): #converts a decimal number to any base up to base 16 (hex)\n",
    "    new_value=''\n",
    "    remainder=0\n",
    "    while value!=0:\n",
    "        quotient=value//new_base\n",
    "        remainder=value%new_base\n",
    "        #convert 10-15 to hex A-F\n",
    "        if remainder <10:\n",
    "            char=str(remainder)\n",
    "        else:\n",
    "            char=chr(remainder-10+ord('A'))\n",
    "        new_value = char + new_value\n",
    "        value=quotient\n",
    "    return new_value\n",
    "\n",
    "def convert_multi(value):\n",
    "    print(f\"bin: {base_converter(value,2)}\\ndec: {base_converter(value,10)}\\nhex: {base_converter(value,16)}\")\n",
    "\n",
    "convert_multi(110)"
   ]
  },
  {
   "cell_type": "code",
   "execution_count": null,
   "id": "60bd84d9",
   "metadata": {},
   "outputs": [],
   "source": []
  },
  {
   "cell_type": "code",
   "execution_count": null,
   "id": "f7c40e6c",
   "metadata": {},
   "outputs": [],
   "source": []
  }
 ],
 "metadata": {
  "kernelspec": {
   "display_name": "Python 3",
   "language": "python",
   "name": "python3"
  },
  "language_info": {
   "codemirror_mode": {
    "name": "ipython",
    "version": 3
   },
   "file_extension": ".py",
   "mimetype": "text/x-python",
   "name": "python",
   "nbconvert_exporter": "python",
   "pygments_lexer": "ipython3",
   "version": "3.10.11"
  }
 },
 "nbformat": 4,
 "nbformat_minor": 5
}
